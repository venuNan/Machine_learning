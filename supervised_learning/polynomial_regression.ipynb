{
 "cells": [
  {
   "cell_type": "code",
   "execution_count": 21,
   "metadata": {},
   "outputs": [],
   "source": [
    "import numpy as np\n",
    "import matplotlib.pyplot as plt"
   ]
  },
  {
   "cell_type": "markdown",
   "metadata": {},
   "source": [
    "Implementing the linear regression model from scratch."
   ]
  },
  {
   "cell_type": "code",
   "execution_count": 112,
   "metadata": {},
   "outputs": [],
   "source": [
    "class PolynomialRegression:\n",
    "\n",
    "    def __init__(self, learning_rate=0.001, iterations=10000) -> None:\n",
    "        self.learning_rate = learning_rate\n",
    "        self.iterations = iterations\n",
    "        self.w1 = np.random.randn()\n",
    "        self.b = np.random.randn()\n",
    "\n",
    "    def fit(self, X, Y):\n",
    "        n = len(X)\n",
    "        for i in range(self.iterations):\n",
    "            # Predict the values using the current weights\n",
    "            y_pred = self.w1 * X**2 + self.b\n",
    "\n",
    "            # Calculate gradients for w1, w2, and b\n",
    "            dw1 = (2 / n) * np.sum(X * (y_pred - Y))\n",
    "            db = (2 / n) * np.sum(y_pred - Y)\n",
    "\n",
    "            # Update the weights\n",
    "            self.w1 -= self.learning_rate * dw1\n",
    "            self.b -= 0.1 * db\n",
    "\n",
    "            # Calculate and print the cost every 100 iterations\n",
    "            if i % 100 == 0:\n",
    "                cost = (1 / n) * np.sum((y_pred - Y)**2)\n",
    "                print(f\"Iteration {i} | Cost: {cost} | w1: {self.w1}, b: {self.b}\")\n",
    "\n",
    "    def predict(self, X):\n",
    "        return self.w1 * (X**2) + self.b\n"
   ]
  },
  {
   "cell_type": "markdown",
   "metadata": {},
   "source": [
    "Intialising the  training data to train the model."
   ]
  },
  {
   "cell_type": "code",
   "execution_count": null,
   "metadata": {},
   "outputs": [],
   "source": [
    "X = np.array([i for i in range(1, 100)])\n",
    "Y = np.array([(2* (i**2) + 2) for i in range(1,100)])\n",
    "print(X, Y)"
   ]
  },
  {
   "cell_type": "markdown",
   "metadata": {},
   "source": [
    "Intialising the object of linear regression model and traing the model."
   ]
  },
  {
   "cell_type": "code",
   "execution_count": null,
   "metadata": {},
   "outputs": [],
   "source": [
    "model = PolynomialRegression(learning_rate=0.0000001, iterations=1000000)\n",
    "model.fit(X, Y)"
   ]
  },
  {
   "cell_type": "markdown",
   "metadata": {},
   "source": [
    "Making predictions."
   ]
  },
  {
   "cell_type": "code",
   "execution_count": 119,
   "metadata": {},
   "outputs": [
    {
     "name": "stdout",
     "output_type": "stream",
     "text": [
      "Predictions: [   52.   130.  6274. 15844.  4052.]\n"
     ]
    }
   ],
   "source": [
    "predictions = model.predict(np.array([5,8,56,89,45]))\n",
    "print(\"Predictions:\", predictions)"
   ]
  }
 ],
 "metadata": {
  "kernelspec": {
   "display_name": "Python 3",
   "language": "python",
   "name": "python3"
  },
  "language_info": {
   "codemirror_mode": {
    "name": "ipython",
    "version": 3
   },
   "file_extension": ".py",
   "mimetype": "text/x-python",
   "name": "python",
   "nbconvert_exporter": "python",
   "pygments_lexer": "ipython3",
   "version": "3.11.1"
  }
 },
 "nbformat": 4,
 "nbformat_minor": 2
}
