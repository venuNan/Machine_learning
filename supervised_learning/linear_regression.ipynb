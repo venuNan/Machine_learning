{
 "cells": [
  {
   "cell_type": "code",
   "execution_count": 96,
   "metadata": {},
   "outputs": [],
   "source": [
    "import numpy as np\n",
    "import matplotlib.pyplot as plt"
   ]
  },
  {
   "cell_type": "code",
   "execution_count": 131,
   "metadata": {},
   "outputs": [],
   "source": [
    "class Linearregression:\n",
    "    \n",
    "    def __init__(self, learning_rate=0.0001, iterations=100000) -> None:\n",
    "        self.learning_rate = learning_rate\n",
    "        self.iterations = iterations\n",
    "        self.w = 0\n",
    "        self.b = 0\n",
    "     \n",
    "    def train(self, X, Y) -> None:\n",
    "        self.X = X\n",
    "        self.Y = Y\n",
    "        self.n = len(self.X)\n",
    "        \n",
    "        for i in range(1, self.iterations):\n",
    "            y_pred = self.w * X + self.b\n",
    "\n",
    "            dw = (1/self.n) * np.sum((y_pred - self.Y) * self.X)\n",
    "            db = (1/self.n) * np.sum(y_pred-self.Y)\n",
    "\n",
    "            self.w -= self.learning_rate*dw\n",
    "            self.b -= self.learning_rate*db\n",
    "            \n",
    "\n",
    "    def predict(self, x: int|list) -> int|list:\n",
    "        return self.w*x + self.b\n",
    "    \n",
    "    \n"
   ]
  },
  {
   "cell_type": "code",
   "execution_count": 134,
   "metadata": {},
   "outputs": [],
   "source": [
    "X = np.array([i for i in range(1,1001)])\n",
    "Y = np.array([i*2 for i in range(1,1001)])"
   ]
  },
  {
   "cell_type": "code",
   "execution_count": 135,
   "metadata": {},
   "outputs": [],
   "source": [
    "model = Linearregression(learning_rate=0.0000001055)\n",
    "model.train(X, Y)"
   ]
  },
  {
   "cell_type": "code",
   "execution_count": 136,
   "metadata": {},
   "outputs": [
    {
     "name": "stdout",
     "output_type": "stream",
     "text": [
      "[62, 82, 4, 50, 34, 69, 34, 92, 80, 13, 74, 46, 59, 67, 18, 31, 60, 21, 13, 80, 59, 30, 50, 2, 45, 83, 12, 26, 53, 60, 87, 61, 80, 60, 53, 85, 71, 45, 73, 97, 86, 50, 89, 99, 61, 71, 2, 51, 5, 77, 62, 33, 66, 95, 17, 60, 21, 73, 35, 67, 64, 46, 51, 56, 21, 43, 24, 87, 29, 98, 70, 20, 47, 46, 74, 2, 63, 53, 86, 72, 17, 30, 87, 5, 80, 3, 52, 78, 40, 3, 55, 40, 77, 14, 43, 60, 94, 49, 59, 18]\n",
      "[124.00271262 164.00262295   8.00297268 100.00276643  68.00283817\n",
      " 138.00268124  68.00283817 184.00257811 160.00263192  26.00293232\n",
      " 148.00265882  92.00278436 118.00272607 134.0026902   36.0029099\n",
      "  62.00285162 120.00272159  42.00289645  26.00293232 160.00263192\n",
      " 118.00272607  60.0028561  100.00276643   4.00298164  90.00278884\n",
      " 166.00261846  24.00293681  52.00287403 106.00275298 120.00272159\n",
      " 174.00260053 122.00271711 160.00263192 120.00272159 106.00275298\n",
      " 170.0026095  142.00267227  90.00278884 146.0026633  194.00255569\n",
      " 172.00260501 100.00276643 178.00259156 198.00254673 122.00271711\n",
      " 142.00267227   4.00298164 102.00276194  10.00296819 154.00264537\n",
      " 124.00271262  66.00284265 132.00269469 190.00256466  34.00291439\n",
      " 120.00272159  42.00289645 146.0026633   70.00283368 134.0026902\n",
      " 128.00270365  92.00278436 102.00276194 112.00273952  42.00289645\n",
      "  86.00279781  48.002883   174.00260053  58.00286058 196.00255121\n",
      " 140.00267675  40.00290094  94.00277988  92.00278436 148.00265882\n",
      "   4.00298164 126.00270814 106.00275298 172.00260501 144.00266779\n",
      "  34.00291439  60.0028561  174.00260053  10.00296819 160.00263192\n",
      "   6.00297716 104.00275746 156.00264088  80.00281126   6.00297716\n",
      " 110.00274401  80.00281126 154.00264537  28.00292784  86.00279781\n",
      " 120.00272159 188.00256914  98.00277091 118.00272607  36.0029099 ]\n"
     ]
    }
   ],
   "source": [
    "import random\n",
    "x = [random.randint(1,100) for _ in range(1,101)]\n",
    "print(x)\n",
    "res = model.predict(np.array(x))\n",
    "print(res)"
   ]
  }
 ],
 "metadata": {
  "kernelspec": {
   "display_name": "Python 3",
   "language": "python",
   "name": "python3"
  },
  "language_info": {
   "codemirror_mode": {
    "name": "ipython",
    "version": 3
   },
   "file_extension": ".py",
   "mimetype": "text/x-python",
   "name": "python",
   "nbconvert_exporter": "python",
   "pygments_lexer": "ipython3",
   "version": "3.11.1"
  }
 },
 "nbformat": 4,
 "nbformat_minor": 2
}
