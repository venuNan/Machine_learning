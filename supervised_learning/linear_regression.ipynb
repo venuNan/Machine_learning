{
 "cells": [
  {
   "cell_type": "code",
   "execution_count": 2,
   "metadata": {},
   "outputs": [],
   "source": [
    "import numpy as np\n",
    "import matplotlib.pyplot as plt"
   ]
  },
  {
   "cell_type": "code",
   "execution_count": 3,
   "metadata": {},
   "outputs": [],
   "source": [
    "class Linearregression:\n",
    "\n",
    "    def __init__(self, learning_rate=0.0001, iterations=100000) -> None:\n",
    "        self.learning_rate = learning_rate\n",
    "        self.iterations = iterations\n",
    "        self.w = 0\n",
    "        self.b = 0\n",
    "        self.weights = []\n",
    "        self.costs = []\n",
    "     \n",
    "    def train(self, X, Y) -> None:\n",
    "        self.X = X\n",
    "        self.Y = Y\n",
    "        self.n = len(self.X)\n",
    "        \n",
    "        for i in range(1, self.iterations):\n",
    "            y_pred = self.w * X + self.b\n",
    "\n",
    "            dw = (1/self.n) * np.sum((y_pred - self.Y) * self.X)\n",
    "            db = (1/self.n) * np.sum(y_pred-self.Y)\n",
    "\n",
    "            self.w -= self.learning_rate*dw\n",
    "            self.b -= self.learning_rate*db\n",
    "\n",
    "            cost = (1/self.n) * np.sum((y_pred - self.Y)**2)\n",
    "\n",
    "            self.weights.append(self.w)\n",
    "            self.costs.append((self.w, self.b))\n",
    "            \n",
    "\n",
    "    def predict(self, x: int|list) -> int|list:\n",
    "        return self.w*x + self.b\n",
    "    \n",
    "    \n"
   ]
  },
  {
   "cell_type": "code",
   "execution_count": 4,
   "metadata": {},
   "outputs": [],
   "source": [
    "X = np.array([i for i in range(1, 1001)])\n",
    "Y = np.array([i*2 for i in range(1,1001)])"
   ]
  },
  {
   "cell_type": "code",
   "execution_count": 5,
   "metadata": {},
   "outputs": [],
   "source": [
    "model = Linearregression(learning_rate=0.0000001055)\n",
    "model.train(X, Y)"
   ]
  },
  {
   "cell_type": "code",
   "execution_count": 9,
   "metadata": {},
   "outputs": [
    {
     "name": "stdout",
     "output_type": "stream",
     "text": [
      "[84, 53, 3, 86, 4, 44, 64, 60, 42, 56, 3, 31, 57, 2, 87, 96, 82, 49, 20, 12, 21, 97, 67, 53, 29, 63, 29, 34, 32, 26, 77, 41, 96, 8, 25, 82, 74, 94, 42, 18, 83, 2, 11, 91, 52, 39, 94, 60, 34, 18, 30, 90, 83, 89, 25, 95, 94, 11, 50, 36, 61, 12, 25, 92, 25, 9, 73, 71, 85, 81, 97, 61, 89, 21, 19, 63, 12, 58, 30, 66, 19, 84, 100, 16, 85, 93, 17, 35, 77, 39, 41, 73, 66, 46, 52, 74, 33, 99, 51, 59]\n",
      "[168, 106, 6, 172, 8, 88, 128, 120, 84, 112, 6, 62, 114, 4, 174, 192, 164, 98, 40, 24, 42, 194, 134, 106, 58, 126, 58, 68, 64, 52, 154, 82, 192, 16, 50, 164, 148, 188, 84, 36, 166, 4, 22, 182, 104, 78, 188, 120, 68, 36, 60, 180, 166, 178, 50, 190, 188, 22, 100, 72, 122, 24, 50, 184, 50, 18, 146, 142, 170, 162, 194, 122, 178, 42, 38, 126, 24, 116, 60, 132, 38, 168, 200, 32, 170, 186, 34, 70, 154, 78, 82, 146, 132, 92, 104, 148, 66, 198, 102, 118]\n"
     ]
    }
   ],
   "source": [
    "import random\n",
    "x = [random.randint(1,100) for _ in range(1,101)]\n",
    "print(x)\n",
    "res = model.predict(np.array(x))\n",
    "print(list(map(int,list(res))))"
   ]
  }
 ],
 "metadata": {
  "kernelspec": {
   "display_name": "Python 3",
   "language": "python",
   "name": "python3"
  },
  "language_info": {
   "codemirror_mode": {
    "name": "ipython",
    "version": 3
   },
   "file_extension": ".py",
   "mimetype": "text/x-python",
   "name": "python",
   "nbconvert_exporter": "python",
   "pygments_lexer": "ipython3",
   "version": "3.11.1"
  }
 },
 "nbformat": 4,
 "nbformat_minor": 2
}
